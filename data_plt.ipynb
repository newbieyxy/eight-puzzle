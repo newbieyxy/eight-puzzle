{
 "cells": [
  {
   "cell_type": "code",
   "execution_count": 1,
   "metadata": {},
   "outputs": [],
   "source": [
    "import numpy as np\n",
    "import seaborn as sns\n",
    "import matplotlib.pyplot as plt\n",
    "import pandas as pd\n",
    "\n",
    "# s = pd.Series(['orca', 0 , 2.1, 0., .5], index=entry)\n",
    "# data = data.append(s, ignore_index=True)\n",
    "# self.data.to_csv('{}/train_data{}.csv'.format(dir, suffix))\n",
    "# df = pd.read_csv('{}/{}/{}'.format(dir, subfolder, csv_name)).drop(['Unnamed: 0'], axis=1)\n",
    "# plt.figure()\n",
    "# plt.savefig('{}/{}'.format(dir, name), dpi=200)\n",
    "# plt.close()\n",
    "\n",
    "load_dir = './data'\n",
    "\n",
    "IDS = 'IDS'\n",
    "Greedy = 'Greedy'\n",
    "AStar_man = 'AStar_man'\n",
    "AStar_mis = 'AStar_mis'\n"
   ]
  },
  {
   "cell_type": "code",
   "execution_count": 2,
   "metadata": {
    "scrolled": false
   },
   "outputs": [],
   "source": [
    "#df_IDS = pd.read_csv('{}/{}'.format(load_dir, IDS+'_data.csv')).drop(['Unnamed: 0'], axis=1)\n",
    "df_Greedy = pd.read_csv('{}/{}'.format(load_dir, Greedy+'_data.csv')).drop(['Unnamed: 0'], axis=1)\n",
    "df_AStar_man = pd.read_csv('{}/{}'.format(load_dir, AStar_man+'_data.csv')).drop(['Unnamed: 0'], axis=1)\n",
    "df_AStar_mis = pd.read_csv('{}/{}'.format(load_dir, AStar_mis+'_data.csv')).drop(['Unnamed: 0'], axis=1)"
   ]
  },
  {
   "cell_type": "code",
   "execution_count": 3,
   "metadata": {},
   "outputs": [],
   "source": [
    "collect = {'Greedy':df_Greedy,\n",
    "          'AStar_man':df_AStar_man,\n",
    "          'AStar_mis':df_AStar_mis,}"
   ]
  },
  {
   "cell_type": "code",
   "execution_count": 23,
   "metadata": {},
   "outputs": [
    {
     "name": "stdout",
     "output_type": "stream",
     "text": [
      "method Greedy\n",
      "success_rate 0.54\n",
      "avg runnint_time 0.009022518440529152\n",
      "avg visited_node 6.814814814814815\n",
      "method AStar_man\n",
      "success_rate 1.0\n",
      "avg runnint_time 0.18496607303619383\n",
      "avg visited_node 41.68\n",
      "method AStar_mis\n",
      "success_rate 1.0\n",
      "avg runnint_time 4.416169166564941\n",
      "avg visited_node 194.62\n"
     ]
    }
   ],
   "source": [
    "# initialize dataframes\n",
    "epi_entry = ['Method', 'test', 'running_time', 'visited_time']\n",
    "epi_title = {e:[] for e in epi_entry}\n",
    "epi_data = pd.DataFrame(epi_title)\n",
    "\n",
    "sum_entry = ['Method', 'Success_rate']\n",
    "sum_title = {e:[] for e in sum_entry}\n",
    "sum_data = pd.DataFrame(sum_title)\n",
    "\n",
    "# collecting data\n",
    "#setting = ['IDS', 'Greedy', 'AStar_man', 'AStar_mis']\n",
    "setting = ['Greedy', 'AStar_man', 'AStar_mis']\n",
    "\n",
    "num_test = 50\n",
    "setting_ind = 0\n",
    "for method in setting:\n",
    "    sum_frame = []\n",
    "    list_time = []\n",
    "    list_node = []\n",
    "    success_rate = 0\n",
    "    for n in range(num_test):\n",
    "        success_rate += 1 if collect[method]['success_flag'][n] else 0 \n",
    "        if collect[method]['success_flag'][n]:\n",
    "            list_time.append(collect[method]['running_time'][n])\n",
    "            list_node.append(collect[method]['visited_time'][n])\n",
    "\n",
    "        list_method_name = [method for n in range(num_test)]\n",
    "        list_test_index = list(range(num_test))\n",
    "\n",
    "        frame = [list_method_name, list_test_index, list_time, list_node]\n",
    "        sum_frame.append(frame)\n",
    "        #print (\"sum_frame size\\n\", sum_frame)\n",
    "        \n",
    "    frame = list(map(list, zip(*frame)))\n",
    "\n",
    "    df = pd.DataFrame(frame, columns=epi_entry)\n",
    "    epi_data = epi_data.append(df, ignore_index=True)\n",
    "\n",
    "    # summarized metrics\n",
    "    success_rate /= 1.* (num_test)\n",
    "    df = pd.Series([method, success_rate], index=sum_entry)\n",
    "    sum_data = sum_data.append(df, ignore_index=True)\n",
    "    \n",
    "    print(\"method {}\".format(method))\n",
    "    print(\"success_rate {}\".format(float(success_rate)))\n",
    "    print(\"avg runnint_time {}\".format(sum(list_time)/len(list_time)))\n",
    "    print(\"avg visited_node {}\".format(sum(list_node)/len(list_node)))\n",
    "                                                              "
   ]
  },
  {
   "cell_type": "code",
   "execution_count": 11,
   "metadata": {},
   "outputs": [
    {
     "data": {
      "image/png": "[encoded data removed]",
      "text/plain": [
       "<Figure size 504x72 with 1 Axes>"
      ]
     },
     "metadata": {},
     "output_type": "display_data"
    }
   ],
   "source": [
    "# color stuff\n",
    "colors = [\"salmon pink\", \"tiffany blue\", \"light lavender\", \"peach\", \"light blue grey\", \"pastel yellow\", \"foam green\",  ]\n",
    "#colors = [\"orangish\",\"bright lilac\",\"mango\",\"neon red\",\"leather\",\"violet pink\",\"shamrock green\",\"dark orange\", \"mustard yellow\",\"cerulean\",\"pinkish purple\",\"electric blue\", \"peach\", \"light blue grey\", \"pastel yellow\"]\n",
    "sns.set_palette(sns.xkcd_palette(colors))\n",
    "sns.palplot(sns.xkcd_palette(colors))"
   ]
  },
  {
   "cell_type": "code",
   "execution_count": 12,
   "metadata": {
    "scrolled": false
   },
   "outputs": [
    {
     "name": "stderr",
     "output_type": "stream",
     "text": [
      "/home/yangxuyun/anaconda3/lib/python3.6/site-packages/seaborn/categorical.py:3666: UserWarning: The `factorplot` function has been renamed to `catplot`. The original name will be removed in a future release. Please update your code. Note that the default `kind` in `factorplot` (`'point'`) has changed `'strip'` in `catplot`.\n",
      "  warnings.warn(msg)\n"
     ]
    },
    {
     "data": {
      "text/plain": [
       "<Figure size 576x576 with 0 Axes>"
      ]
     },
     "metadata": {},
     "output_type": "display_data"
    },
    {
     "data": {
      "image/png": "[encoded data removed]",
      "text/plain": [
       "<Figure size 360x360 with 1 Axes>"
      ]
     },
     "metadata": {},
     "output_type": "display_data"
    }
   ],
   "source": [
    "#sns.barplot(x='Setting', y='Success rate', hue=\"Method\", data=sum_data,legend=False)\n",
    "plt.figure(1,figsize = (8,8))\n",
    "plt.rcParams.update({'font.size': 12})\n",
    "success = sns.factorplot(x='Method', y='Success_rate', hue=\"Method\", kind=\"bar\", data=sum_data, legend = False) #, height=6., aspect=1./1.)\n",
    "success.despine(left=False,top=False,right=False)\n",
    "plt.legend(loc='upper left',fontsize=12)  #'xx-large'\n",
    "plt.tick_params(labelsize=12)\n",
    "ax = plt.gca()\n",
    "ax.set_ylim([0, 1])\n",
    "\n",
    "# Iterate through the list of axes' patches\n",
    "#for p in ax.patches:\n",
    "#    ax.text(p.get_x() + p.get_width()/2., p.get_height()-p.get_height()/100, '%.02f' % p.get_height(), \n",
    "#            fontsize=16, color='black', ha='center', va='bottom')\n",
    "\n",
    "plt.savefig('./figures/success_rate.jpg')"
   ]
  },
  {
   "cell_type": "code",
   "execution_count": 18,
   "metadata": {},
   "outputs": [
    {
     "name": "stderr",
     "output_type": "stream",
     "text": [
      "/home/yangxuyun/anaconda3/lib/python3.6/site-packages/seaborn/categorical.py:3666: UserWarning: The `factorplot` function has been renamed to `catplot`. The original name will be removed in a future release. Please update your code. Note that the default `kind` in `factorplot` (`'point'`) has changed `'strip'` in `catplot`.\n",
      "  warnings.warn(msg)\n"
     ]
    },
    {
     "data": {
      "text/plain": [
       "<Figure size 576x576 with 0 Axes>"
      ]
     },
     "metadata": {},
     "output_type": "display_data"
    },
    {
     "data": {
      "image/png": "[encoded data removed]",
      "text/plain": [
       "<Figure size 360x360 with 1 Axes>"
      ]
     },
     "metadata": {},
     "output_type": "display_data"
    }
   ],
   "source": [
    "#sns.barplot(x=\"Setting\", y=\"Connectivity\", hue=\"Method\", data=epi_data, capsize =.1)\n",
    "plt.figure(2,figsize = (8,8))\n",
    "plt.rcParams.update({'font.size': 12})\n",
    "connectivity = sns.factorplot(x=\"Method\", y=\"running_time\", hue=\"Method\", kind=\"bar\", data=epi_data, capsize =.1, legend = False) #, height=6., aspect=1./1.)\n",
    "sns.despine(top=False, right=False) #top=False, right=False\n",
    "plt.legend(loc='upper left', fontsize=12)\n",
    "plt.tick_params(labelsize=12)\n",
    "\n",
    "plt.savefig('./figures/running_time.jpg')"
   ]
  },
  {
   "cell_type": "code",
   "execution_count": 15,
   "metadata": {
    "scrolled": true
   },
   "outputs": [
    {
     "name": "stderr",
     "output_type": "stream",
     "text": [
      "/home/yangxuyun/anaconda3/lib/python3.6/site-packages/seaborn/categorical.py:3666: UserWarning: The `factorplot` function has been renamed to `catplot`. The original name will be removed in a future release. Please update your code. Note that the default `kind` in `factorplot` (`'point'`) has changed `'strip'` in `catplot`.\n",
      "  warnings.warn(msg)\n"
     ]
    },
    {
     "data": {
      "text/plain": [
       "<Figure size 576x576 with 0 Axes>"
      ]
     },
     "metadata": {},
     "output_type": "display_data"
    },
    {
     "data": {
      "image/png": "[encoded data removed]",
      "text/plain": [
       "<Figure size 360x360 with 1 Axes>"
      ]
     },
     "metadata": {},
     "output_type": "display_data"
    }
   ],
   "source": [
    "#sns.barplot(x=\"Setting\", y=\"Efficiency\", hue=\"Method\", data=epi_data, capsize =.1)\n",
    "plt.figure(3,figsize = (8,8))\n",
    "plt.rcParams.update({'font.size': 12})\n",
    "efficency = sns.factorplot(x=\"Method\", y=\"visited_time\", hue=\"Method\", kind='bar', data=epi_data, capsize =.1, legend = False) #, height=6., aspect=4./3.)\n",
    "efficency.despine(top=False, right=False)\n",
    "plt.legend(loc='upper left', fontsize=12)\n",
    "plt.tick_params(labelsize=12)\n",
    "\n",
    "plt.savefig('./figures/visited_time.jpg')"
   ]
  },
  {
   "cell_type": "code",
   "execution_count": null,
   "metadata": {},
   "outputs": [],
   "source": []
  }
 ],
 "metadata": {
  "kernelspec": {
   "display_name": "Python 2",
   "language": "python",
   "name": "python2"
  },
  "language_info": {
   "codemirror_mode": {
    "name": "ipython",
    "version": 3
   },
   "file_extension": ".py",
   "mimetype": "text/x-python",
   "name": "python",
   "nbconvert_exporter": "python",
   "pygments_lexer": "ipython3",
   "version": "3.6.5"
  }
 },
 "nbformat": 4,
 "nbformat_minor": 2
}
